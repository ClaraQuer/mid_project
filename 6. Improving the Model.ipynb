{
 "cells": [
  {
   "cell_type": "code",
   "execution_count": 189,
   "id": "66bd1bd1",
   "metadata": {},
   "outputs": [],
   "source": [
    "import pandas as pd\n",
    "import numpy as np\n",
    "import country_converter as coco\n",
    "import re\n",
    "import pandas_profiling as pp\n",
    "import pymysql\n",
    "from sqlalchemy import create_engine\n",
    "import getpass\n",
    "import math\n",
    "import seaborn as sns\n",
    "import matplotlib\n",
    "%matplotlib inline\n",
    "import matplotlib.pyplot as plt\n",
    "from sklearn.preprocessing import MinMaxScaler\n",
    "from sklearn.preprocessing import StandardScaler\n",
    "from sklearn.preprocessing import OneHotEncoder\n",
    "from sklearn.neighbors import KNeighborsClassifier, KNeighborsRegressor\n",
    "from sklearn.linear_model import LogisticRegression\n",
    "from sklearn.linear_model import LinearRegression\n",
    "from sklearn.utils import resample\n",
    "from imblearn.over_sampling import SMOTE\n",
    "from sklearn.metrics import r2_score\n",
    "from sklearn.metrics import precision_score\n",
    "from sklearn.metrics import recall_score\n",
    "from sklearn.metrics import f1_score\n",
    "from sklearn.metrics import confusion_matrix\n",
    "from sklearn.model_selection import train_test_split"
   ]
  },
  {
   "cell_type": "code",
   "execution_count": 190,
   "id": "5653192a",
   "metadata": {},
   "outputs": [],
   "source": [
    "pd.set_option('display.max_rows', 2000)\n",
    "pd.set_option('display.max_columns', 2000)"
   ]
  },
  {
   "cell_type": "markdown",
   "id": "f980738c",
   "metadata": {},
   "source": [
    "### Importing the data"
   ]
  },
  {
   "cell_type": "code",
   "execution_count": 191,
   "id": "66b1adc2",
   "metadata": {},
   "outputs": [],
   "source": [
    "%store -r ddata"
   ]
  },
  {
   "cell_type": "code",
   "execution_count": 192,
   "id": "f54db513",
   "metadata": {},
   "outputs": [],
   "source": [
    "data2 = ddata[~ddata['polity'].isna()]"
   ]
  },
  {
   "cell_type": "code",
   "execution_count": 193,
   "id": "d12d3d84",
   "metadata": {},
   "outputs": [
    {
     "data": {
      "text/html": [
       "<div>\n",
       "<style scoped>\n",
       "    .dataframe tbody tr th:only-of-type {\n",
       "        vertical-align: middle;\n",
       "    }\n",
       "\n",
       "    .dataframe tbody tr th {\n",
       "        vertical-align: top;\n",
       "    }\n",
       "\n",
       "    .dataframe thead th {\n",
       "        text-align: right;\n",
       "    }\n",
       "</style>\n",
       "<table border=\"1\" class=\"dataframe\">\n",
       "  <thead>\n",
       "    <tr style=\"text-align: right;\">\n",
       "      <th></th>\n",
       "      <th>continent</th>\n",
       "      <th>region</th>\n",
       "      <th>iso3</th>\n",
       "      <th>country_name</th>\n",
       "      <th>indicator_id</th>\n",
       "      <th>value</th>\n",
       "      <th>democ</th>\n",
       "      <th>autoc</th>\n",
       "      <th>polity</th>\n",
       "      <th>indicator_name</th>\n",
       "      <th>dimension</th>\n",
       "    </tr>\n",
       "  </thead>\n",
       "  <tbody>\n",
       "    <tr>\n",
       "      <th>0</th>\n",
       "      <td>Asia</td>\n",
       "      <td>Southern Asia</td>\n",
       "      <td>AFG</td>\n",
       "      <td>Afghanistan</td>\n",
       "      <td>1</td>\n",
       "      <td>0.0</td>\n",
       "      <td>1.0</td>\n",
       "      <td>2.0</td>\n",
       "      <td>-1.0</td>\n",
       "      <td>European Union Membership (True/False)</td>\n",
       "      <td>International Organisations</td>\n",
       "    </tr>\n",
       "    <tr>\n",
       "      <th>1</th>\n",
       "      <td>Asia</td>\n",
       "      <td>Southern Asia</td>\n",
       "      <td>AFG</td>\n",
       "      <td>Afghanistan</td>\n",
       "      <td>2</td>\n",
       "      <td>1.0</td>\n",
       "      <td>1.0</td>\n",
       "      <td>2.0</td>\n",
       "      <td>-1.0</td>\n",
       "      <td>United Nations Membership (True/False)</td>\n",
       "      <td>International Organisations</td>\n",
       "    </tr>\n",
       "    <tr>\n",
       "      <th>2</th>\n",
       "      <td>Asia</td>\n",
       "      <td>Southern Asia</td>\n",
       "      <td>AFG</td>\n",
       "      <td>Afghanistan</td>\n",
       "      <td>3</td>\n",
       "      <td>0.0</td>\n",
       "      <td>1.0</td>\n",
       "      <td>2.0</td>\n",
       "      <td>-1.0</td>\n",
       "      <td>OECD Membership (True/False)</td>\n",
       "      <td>International Organisations</td>\n",
       "    </tr>\n",
       "    <tr>\n",
       "      <th>3</th>\n",
       "      <td>Asia</td>\n",
       "      <td>Southern Asia</td>\n",
       "      <td>AFG</td>\n",
       "      <td>Afghanistan</td>\n",
       "      <td>21806</td>\n",
       "      <td>2621.1</td>\n",
       "      <td>1.0</td>\n",
       "      <td>2.0</td>\n",
       "      <td>-1.0</td>\n",
       "      <td>Refugees by country of origin (thousands)</td>\n",
       "      <td>Human Security</td>\n",
       "    </tr>\n",
       "    <tr>\n",
       "      <th>4</th>\n",
       "      <td>Asia</td>\n",
       "      <td>Southern Asia</td>\n",
       "      <td>AFG</td>\n",
       "      <td>Afghanistan</td>\n",
       "      <td>23806</td>\n",
       "      <td>25.1</td>\n",
       "      <td>1.0</td>\n",
       "      <td>2.0</td>\n",
       "      <td>-1.0</td>\n",
       "      <td>Population with at least some secondary educat...</td>\n",
       "      <td>Education</td>\n",
       "    </tr>\n",
       "  </tbody>\n",
       "</table>\n",
       "</div>"
      ],
      "text/plain": [
       "  continent         region iso3 country_name  indicator_id   value  democ  \\\n",
       "0      Asia  Southern Asia  AFG  Afghanistan             1     0.0    1.0   \n",
       "1      Asia  Southern Asia  AFG  Afghanistan             2     1.0    1.0   \n",
       "2      Asia  Southern Asia  AFG  Afghanistan             3     0.0    1.0   \n",
       "3      Asia  Southern Asia  AFG  Afghanistan         21806  2621.1    1.0   \n",
       "4      Asia  Southern Asia  AFG  Afghanistan         23806    25.1    1.0   \n",
       "\n",
       "   autoc  polity                                     indicator_name  \\\n",
       "0    2.0    -1.0             European Union Membership (True/False)   \n",
       "1    2.0    -1.0             United Nations Membership (True/False)   \n",
       "2    2.0    -1.0                       OECD Membership (True/False)   \n",
       "3    2.0    -1.0          Refugees by country of origin (thousands)   \n",
       "4    2.0    -1.0  Population with at least some secondary educat...   \n",
       "\n",
       "                     dimension  \n",
       "0  International Organisations  \n",
       "1  International Organisations  \n",
       "2  International Organisations  \n",
       "3               Human Security  \n",
       "4                    Education  "
      ]
     },
     "execution_count": 193,
     "metadata": {},
     "output_type": "execute_result"
    }
   ],
   "source": [
    "data2.head()"
   ]
  },
  {
   "cell_type": "markdown",
   "id": "98f26fbc",
   "metadata": {},
   "source": [
    "### Filtering Data"
   ]
  },
  {
   "cell_type": "markdown",
   "id": "df328176",
   "metadata": {},
   "source": [
    "Importing list of ids from previous notebook."
   ]
  },
  {
   "cell_type": "code",
   "execution_count": 194,
   "id": "bb6e767f",
   "metadata": {},
   "outputs": [],
   "source": [
    "%store -r clean_id"
   ]
  },
  {
   "cell_type": "markdown",
   "id": "e4eaa42f",
   "metadata": {},
   "source": [
    "I only want the indicator_ids that do not have high collinearity with eachother, so I filter them based on the list I created in the previous notebook. "
   ]
  },
  {
   "cell_type": "code",
   "execution_count": 195,
   "id": "07f10d67",
   "metadata": {},
   "outputs": [],
   "source": [
    "clean_data = data2[data2['indicator_id'].isin(clean_id)].copy()\n",
    "clean_data['indicator_id'] = clean_data['indicator_id'].astype('str')\n",
    "clean_df = clean_data.pivot(index = ['country_name', 'continent', 'region', 'polity'], \n",
    "                                    columns= ['indicator_id'], values = 'value').reset_index().copy()"
   ]
  },
  {
   "cell_type": "code",
   "execution_count": 196,
   "id": "7872f385",
   "metadata": {},
   "outputs": [
    {
     "data": {
      "text/plain": [
       "indicator_id\n",
       "country_name     0\n",
       "continent        0\n",
       "region           0\n",
       "polity           0\n",
       "1                0\n",
       "100806           0\n",
       "101406          40\n",
       "101706          21\n",
       "102006          67\n",
       "110806           0\n",
       "110906           0\n",
       "111106           9\n",
       "111306          15\n",
       "117806          67\n",
       "117906          67\n",
       "118006          67\n",
       "121106           0\n",
       "121206           0\n",
       "122006           0\n",
       "123406           7\n",
       "123506           2\n",
       "123806          13\n",
       "127606          13\n",
       "128106           8\n",
       "128306           4\n",
       "132706           0\n",
       "133006          24\n",
       "133206           4\n",
       "135106          22\n",
       "137906          12\n",
       "138806          22\n",
       "140606           0\n",
       "142506          67\n",
       "143306           6\n",
       "146206           2\n",
       "147206          38\n",
       "147906          57\n",
       "148206           0\n",
       "149406           1\n",
       "150706           0\n",
       "164406          19\n",
       "167106          80\n",
       "169706           0\n",
       "169806           0\n",
       "170106          45\n",
       "174406           4\n",
       "175106           0\n",
       "175206          42\n",
       "175506          27\n",
       "175706          13\n",
       "177106           1\n",
       "177206           0\n",
       "178306           4\n",
       "181106          14\n",
       "181206          21\n",
       "181606           0\n",
       "181706           1\n",
       "182206           0\n",
       "183206          34\n",
       "183406          67\n",
       "2                0\n",
       "21806            0\n",
       "24106            8\n",
       "27706            0\n",
       "3                0\n",
       "31706            0\n",
       "38506           67\n",
       "39006           73\n",
       "43006            0\n",
       "45106            0\n",
       "46006            0\n",
       "46106           22\n",
       "46206           23\n",
       "48706            0\n",
       "48806            0\n",
       "49006            0\n",
       "52606           12\n",
       "53506            3\n",
       "61006            9\n",
       "63206           12\n",
       "63406           27\n",
       "64306            0\n",
       "64406            0\n",
       "65606            8\n",
       "69206            0\n",
       "71606           21\n",
       "dtype: int64"
      ]
     },
     "execution_count": 196,
     "metadata": {},
     "output_type": "execute_result"
    }
   ],
   "source": [
    "clean_df.isna().sum()"
   ]
  },
  {
   "cell_type": "markdown",
   "id": "0eae3f96",
   "metadata": {},
   "source": [
    "## Predicting function:"
   ]
  },
  {
   "cell_type": "code",
   "execution_count": 197,
   "id": "2a55122b",
   "metadata": {},
   "outputs": [],
   "source": [
    "def predict(df):\n",
    "    \n",
    "    # First, I get the names of all the columns that contain NaN values into a list. \n",
    "    # I start by looking for the number of NaN values per indicator and I sort them in ascending order,\n",
    "    # so I will start predicting with the ones that have fewer NaNs.\n",
    "    \n",
    "    nan = df.isna().sum().sort_values()\n",
    "    nan = pd.DataFrame(nan).reset_index()\n",
    "    nan.columns = ['indicator_id', 'nans']\n",
    "    nans = []\n",
    "    \n",
    "    # I define the length of the column in a list so I can iterate on its range\n",
    "    \n",
    "    lst = nan['indicator_id'].to_list()\n",
    "    \n",
    "    # With a for loop, I append all the column names with NaN values greater than 0 into a list, in the desired order. \n",
    "\n",
    "    for i in range(len(lst)):\n",
    "        if nan['nans'][i] > 0:\n",
    "            nans.append(str(nan['indicator_id'][i]))\n",
    "    \n",
    "    # I iterate on the nans list, creating a dataframe with only the numerical data and dropping the NaNs. \n",
    "    # After that, I re-append the one where I will be predicting (it was dropped because it has NaNs).\n",
    "    \n",
    "    for i in nans:\n",
    "        \n",
    "        num = df.select_dtypes(np.number).dropna(axis = 1)\n",
    "        num[i] = df[i]\n",
    "        \n",
    "        # I create my training sample with the values for which my column is not NaN, I do an X/y split and I encode the X.\n",
    "        \n",
    "        id_with_num = num[num[i].notna()]\n",
    "        X_id = id_with_num.drop([i],axis=1)\n",
    "        y_id = id_with_num[i]\n",
    "        X_normalized_id = pd.DataFrame(MinMaxScaler().fit_transform(X_id), columns=X_id.columns)\n",
    "        \n",
    "        # I fit my model into the train sample.\n",
    "        \n",
    "        LR = LinearRegression()\n",
    "        LR.fit(X_normalized_id, y_id)\n",
    "        \n",
    "        # I create a second dataframe with all the values (including NaNs), this will be my test sample. \n",
    "        # I X/y split, scale and use the model to predict the y. \n",
    "        \n",
    "        X_all = num.drop([i],axis=1)\n",
    "        X_normalized_all = pd.DataFrame(MinMaxScaler().fit_transform(X_all), columns=X_all.columns)\n",
    "        y_all = num[i]\n",
    "        \n",
    "        # I create a new column with the predictions.\n",
    "        \n",
    "        i_pred = pd.Series(LR.predict(X_normalized_all), name='predicted_' + i)\n",
    "        df = pd.concat([df, i_pred], axis=1)\n",
    "        \n",
    "        # In the last column, I get the data frrom the original column and fill the NaNs with the prediction column. \n",
    "        # Then I drop the other 2, and now I have no NaN values in the dataframe and I haven't lost any data. \n",
    "        \n",
    "        df['final_' + i] =  np.where(df[i].isna(), df['predicted_' + i], df[i])\n",
    "        df.drop([i, 'predicted_' + i], axis = 1, inplace = True)\n",
    "        \n",
    "    return df"
   ]
  },
  {
   "cell_type": "code",
   "execution_count": 198,
   "id": "c75f4f34",
   "metadata": {
    "scrolled": true
   },
   "outputs": [
    {
     "data": {
      "text/plain": [
       "country_name    0\n",
       "continent       0\n",
       "region          0\n",
       "polity          0\n",
       "1               0\n",
       "100806          0\n",
       "110806          0\n",
       "110906          0\n",
       "121106          0\n",
       "121206          0\n",
       "122006          0\n",
       "132706          0\n",
       "140606          0\n",
       "148206          0\n",
       "150706          0\n",
       "169706          0\n",
       "169806          0\n",
       "175106          0\n",
       "177206          0\n",
       "181606          0\n",
       "182206          0\n",
       "2               0\n",
       "21806           0\n",
       "27706           0\n",
       "3               0\n",
       "31706           0\n",
       "43006           0\n",
       "45106           0\n",
       "46006           0\n",
       "48706           0\n",
       "48806           0\n",
       "49006           0\n",
       "64306           0\n",
       "64406           0\n",
       "69206           0\n",
       "final_181706    0\n",
       "final_149406    0\n",
       "final_177106    0\n",
       "final_146206    0\n",
       "final_123506    0\n",
       "final_53506     0\n",
       "final_128306    0\n",
       "final_174406    0\n",
       "final_133206    0\n",
       "final_178306    0\n",
       "final_143306    0\n",
       "final_123406    0\n",
       "final_128106    0\n",
       "final_65606     0\n",
       "final_24106     0\n",
       "final_61006     0\n",
       "final_111106    0\n",
       "final_52606     0\n",
       "final_63206     0\n",
       "final_137906    0\n",
       "final_175706    0\n",
       "final_123806    0\n",
       "final_127606    0\n",
       "final_181106    0\n",
       "final_111306    0\n",
       "final_164406    0\n",
       "final_101706    0\n",
       "final_71606     0\n",
       "final_181206    0\n",
       "final_135106    0\n",
       "final_138806    0\n",
       "final_46106     0\n",
       "final_46206     0\n",
       "final_133006    0\n",
       "final_63406     0\n",
       "final_175506    0\n",
       "final_183206    0\n",
       "final_147206    0\n",
       "final_101406    0\n",
       "final_175206    0\n",
       "final_170106    0\n",
       "final_147906    0\n",
       "final_142506    0\n",
       "final_183406    0\n",
       "final_117806    0\n",
       "final_102006    0\n",
       "final_38506     0\n",
       "final_117906    0\n",
       "final_118006    0\n",
       "final_39006     0\n",
       "final_167106    0\n",
       "dtype: int64"
      ]
     },
     "execution_count": 198,
     "metadata": {},
     "output_type": "execute_result"
    }
   ],
   "source": [
    "clean_KNN = predict(clean_df)\n",
    "clean_KNN.isna().sum()"
   ]
  },
  {
   "cell_type": "markdown",
   "id": "ea5d1663",
   "metadata": {},
   "source": [
    "Everything looks good, so I run my model on this new df."
   ]
  },
  {
   "cell_type": "code",
   "execution_count": 199,
   "id": "cbd559a4",
   "metadata": {
    "scrolled": true
   },
   "outputs": [
    {
     "name": "stdout",
     "output_type": "stream",
     "text": [
      "LR score:  0.5\n",
      "precision:  0.5125000000000001\n",
      "recall:  0.5\n",
      "f1:  0.4756944444444444\n"
     ]
    },
    {
     "name": "stderr",
     "output_type": "stream",
     "text": [
      "C:\\Users\\herat\\anaconda3\\lib\\site-packages\\sklearn\\metrics\\_classification.py:1318: UndefinedMetricWarning: Precision is ill-defined and being set to 0.0 in labels with no predicted samples. Use `zero_division` parameter to control this behavior.\n",
      "  _warn_prf(average, modifier, msg_start, len(result))\n",
      "C:\\Users\\herat\\anaconda3\\lib\\site-packages\\sklearn\\metrics\\_classification.py:1318: UndefinedMetricWarning: Recall is ill-defined and being set to 0.0 in labels with no true samples. Use `zero_division` parameter to control this behavior.\n",
      "  _warn_prf(average, modifier, msg_start, len(result))\n",
      "C:\\Users\\herat\\anaconda3\\lib\\site-packages\\sklearn\\metrics\\_classification.py:1318: UndefinedMetricWarning: Precision is ill-defined and being set to 0.0 in labels with no predicted samples. Use `zero_division` parameter to control this behavior.\n",
      "  _warn_prf(average, modifier, msg_start, len(result))\n",
      "C:\\Users\\herat\\anaconda3\\lib\\site-packages\\sklearn\\metrics\\_classification.py:1318: UndefinedMetricWarning: Recall is ill-defined and being set to 0.0 in labels with no true samples. Use `zero_division` parameter to control this behavior.\n",
      "  _warn_prf(average, modifier, msg_start, len(result))\n"
     ]
    }
   ],
   "source": [
    "X = clean_KNN.drop(['polity', 'country_name', 'region'],axis=1)\n",
    "y = clean_KNN['polity']\n",
    "X_train, X_test, y_train, y_test = train_test_split(X, y, test_size = 0.145, \n",
    "                                                    random_state = 100)\n",
    "numericals_train = X_train.select_dtypes(np.number)\n",
    "numericals_test = X_test.select_dtypes(np.number)\n",
    "\n",
    "categoricals_train = X_train.select_dtypes(object)\n",
    "categoricals_test = X_test.select_dtypes(object)\n",
    "\n",
    "transformer = StandardScaler().fit(numericals_train)\n",
    "numericals_train_standardized = transformer.transform(numericals_train)\n",
    "numericals_test_standardized = transformer.transform(numericals_test)\n",
    "\n",
    "encoder = OneHotEncoder(handle_unknown='error', drop='first').fit(categoricals_train)\n",
    "categoricals_train_encoded = encoder.transform(categoricals_train).toarray()\n",
    "categoricals_test_encoded = encoder.transform(categoricals_test).toarray()\n",
    "\n",
    "X_train = np.concatenate((numericals_train_standardized,categoricals_train_encoded),axis=1)\n",
    "X_test = np.concatenate((numericals_test_standardized,categoricals_test_encoded),axis=1)\n",
    "\n",
    "LR = LogisticRegression(random_state=42, solver='saga', max_iter = 10000)\n",
    "LR.fit(X_train, y_train)\n",
    "\n",
    "LR_pred = LR.predict(X_test)\n",
    "\n",
    "R4 = LR.score(X_test, y_test)\n",
    "PS4 = precision_score(y_test, LR_pred, average= 'weighted')\n",
    "RS4 = recall_score(y_test, LR_pred, average='weighted')\n",
    "F1_4 = f1_score(y_test, LR_pred, average='weighted')\n",
    "\n",
    "print('LR score: ', LR.score(X_test, y_test))\n",
    "print(\"precision: \",precision_score(y_test, LR_pred, average='weighted'))\n",
    "print(\"recall: \",recall_score(y_test, LR_pred, average='weighted'))\n",
    "print(\"f1: \",f1_score(y_test, LR_pred, average='weighted'))"
   ]
  },
  {
   "cell_type": "markdown",
   "id": "3f42e27d",
   "metadata": {},
   "source": [
    "My model gets better!"
   ]
  },
  {
   "cell_type": "markdown",
   "id": "a0812250",
   "metadata": {},
   "source": [
    "#### Real score Vs. predicted one: "
   ]
  },
  {
   "cell_type": "code",
   "execution_count": 200,
   "id": "7e2a6997",
   "metadata": {},
   "outputs": [
    {
     "data": {
      "text/html": [
       "<div>\n",
       "<style scoped>\n",
       "    .dataframe tbody tr th:only-of-type {\n",
       "        vertical-align: middle;\n",
       "    }\n",
       "\n",
       "    .dataframe tbody tr th {\n",
       "        vertical-align: top;\n",
       "    }\n",
       "\n",
       "    .dataframe thead th {\n",
       "        text-align: right;\n",
       "    }\n",
       "</style>\n",
       "<table border=\"1\" class=\"dataframe\">\n",
       "  <thead>\n",
       "    <tr style=\"text-align: right;\">\n",
       "      <th></th>\n",
       "      <th>polity</th>\n",
       "      <th>prediction</th>\n",
       "    </tr>\n",
       "  </thead>\n",
       "  <tbody>\n",
       "    <tr>\n",
       "      <th>0</th>\n",
       "      <td>7.0</td>\n",
       "      <td>8.0</td>\n",
       "    </tr>\n",
       "    <tr>\n",
       "      <th>1</th>\n",
       "      <td>-7.0</td>\n",
       "      <td>10.0</td>\n",
       "    </tr>\n",
       "    <tr>\n",
       "      <th>2</th>\n",
       "      <td>6.0</td>\n",
       "      <td>-2.0</td>\n",
       "    </tr>\n",
       "    <tr>\n",
       "      <th>3</th>\n",
       "      <td>10.0</td>\n",
       "      <td>10.0</td>\n",
       "    </tr>\n",
       "    <tr>\n",
       "      <th>4</th>\n",
       "      <td>-1.0</td>\n",
       "      <td>-3.0</td>\n",
       "    </tr>\n",
       "    <tr>\n",
       "      <th>5</th>\n",
       "      <td>-7.0</td>\n",
       "      <td>9.0</td>\n",
       "    </tr>\n",
       "    <tr>\n",
       "      <th>6</th>\n",
       "      <td>10.0</td>\n",
       "      <td>10.0</td>\n",
       "    </tr>\n",
       "    <tr>\n",
       "      <th>7</th>\n",
       "      <td>-4.0</td>\n",
       "      <td>-4.0</td>\n",
       "    </tr>\n",
       "    <tr>\n",
       "      <th>8</th>\n",
       "      <td>10.0</td>\n",
       "      <td>10.0</td>\n",
       "    </tr>\n",
       "    <tr>\n",
       "      <th>9</th>\n",
       "      <td>9.0</td>\n",
       "      <td>9.0</td>\n",
       "    </tr>\n",
       "    <tr>\n",
       "      <th>10</th>\n",
       "      <td>-7.0</td>\n",
       "      <td>7.0</td>\n",
       "    </tr>\n",
       "    <tr>\n",
       "      <th>11</th>\n",
       "      <td>7.0</td>\n",
       "      <td>8.0</td>\n",
       "    </tr>\n",
       "    <tr>\n",
       "      <th>12</th>\n",
       "      <td>7.0</td>\n",
       "      <td>5.0</td>\n",
       "    </tr>\n",
       "    <tr>\n",
       "      <th>13</th>\n",
       "      <td>-7.0</td>\n",
       "      <td>9.0</td>\n",
       "    </tr>\n",
       "    <tr>\n",
       "      <th>14</th>\n",
       "      <td>10.0</td>\n",
       "      <td>10.0</td>\n",
       "    </tr>\n",
       "    <tr>\n",
       "      <th>15</th>\n",
       "      <td>10.0</td>\n",
       "      <td>10.0</td>\n",
       "    </tr>\n",
       "    <tr>\n",
       "      <th>16</th>\n",
       "      <td>10.0</td>\n",
       "      <td>8.0</td>\n",
       "    </tr>\n",
       "    <tr>\n",
       "      <th>17</th>\n",
       "      <td>8.0</td>\n",
       "      <td>8.0</td>\n",
       "    </tr>\n",
       "    <tr>\n",
       "      <th>18</th>\n",
       "      <td>8.0</td>\n",
       "      <td>-3.0</td>\n",
       "    </tr>\n",
       "    <tr>\n",
       "      <th>19</th>\n",
       "      <td>6.0</td>\n",
       "      <td>5.0</td>\n",
       "    </tr>\n",
       "    <tr>\n",
       "      <th>20</th>\n",
       "      <td>9.0</td>\n",
       "      <td>9.0</td>\n",
       "    </tr>\n",
       "    <tr>\n",
       "      <th>21</th>\n",
       "      <td>9.0</td>\n",
       "      <td>9.0</td>\n",
       "    </tr>\n",
       "    <tr>\n",
       "      <th>22</th>\n",
       "      <td>6.0</td>\n",
       "      <td>6.0</td>\n",
       "    </tr>\n",
       "    <tr>\n",
       "      <th>23</th>\n",
       "      <td>-10.0</td>\n",
       "      <td>-10.0</td>\n",
       "    </tr>\n",
       "  </tbody>\n",
       "</table>\n",
       "</div>"
      ],
      "text/plain": [
       "    polity  prediction\n",
       "0      7.0         8.0\n",
       "1     -7.0        10.0\n",
       "2      6.0        -2.0\n",
       "3     10.0        10.0\n",
       "4     -1.0        -3.0\n",
       "5     -7.0         9.0\n",
       "6     10.0        10.0\n",
       "7     -4.0        -4.0\n",
       "8     10.0        10.0\n",
       "9      9.0         9.0\n",
       "10    -7.0         7.0\n",
       "11     7.0         8.0\n",
       "12     7.0         5.0\n",
       "13    -7.0         9.0\n",
       "14    10.0        10.0\n",
       "15    10.0        10.0\n",
       "16    10.0         8.0\n",
       "17     8.0         8.0\n",
       "18     8.0        -3.0\n",
       "19     6.0         5.0\n",
       "20     9.0         9.0\n",
       "21     9.0         9.0\n",
       "22     6.0         6.0\n",
       "23   -10.0       -10.0"
      ]
     },
     "execution_count": 200,
     "metadata": {},
     "output_type": "execute_result"
    }
   ],
   "source": [
    "LR_pred = LR.predict(X_test)\n",
    "y_test = pd.DataFrame(y_test).reset_index(drop = True)\n",
    "LR_pred = pd.DataFrame(LR_pred).reset_index(drop = True)\n",
    "pd.concat([y_test, LR_pred], axis = 1).rename(columns = {0: 'prediction'})"
   ]
  },
  {
   "cell_type": "code",
   "execution_count": 201,
   "id": "d63868b8",
   "metadata": {
    "scrolled": true
   },
   "outputs": [],
   "source": [
    "X2 = clean_KNN.drop(['polity', 'country_name', 'region'],axis=1)\n",
    "y_ref = clean_KNN['polity']\n",
    "\n",
    "numericals = X2.select_dtypes(np.number)\n",
    "\n",
    "categoricals = X2.select_dtypes(object)\n",
    "\n",
    "transformer = StandardScaler().fit(numericals)\n",
    "numericals_standardized = transformer.transform(numericals)\n",
    "\n",
    "encoder = OneHotEncoder(handle_unknown='error', drop='first').fit(categoricals)\n",
    "categoricals_encoded = encoder.transform(categoricals).toarray()\n",
    "\n",
    "X_ref = numericals_standardized"
   ]
  },
  {
   "cell_type": "markdown",
   "id": "9ec21270",
   "metadata": {},
   "source": [
    "Using recursive feature elimination method to get only the best indicators"
   ]
  },
  {
   "cell_type": "code",
   "execution_count": 202,
   "id": "09412077",
   "metadata": {},
   "outputs": [
    {
     "data": {
      "text/plain": [
       "RFE(estimator=LogisticRegression(max_iter=10000, random_state=42,\n",
       "                                 solver='saga'),\n",
       "    n_features_to_select=21, verbose=False)"
      ]
     },
     "execution_count": 202,
     "metadata": {},
     "output_type": "execute_result"
    }
   ],
   "source": [
    "from sklearn.feature_selection import RFE\n",
    "rfe = RFE(LR, n_features_to_select = 21, verbose = False)\n",
    "rfe.fit(X_ref, y_ref)"
   ]
  },
  {
   "cell_type": "code",
   "execution_count": 203,
   "id": "2d19736f",
   "metadata": {},
   "outputs": [],
   "source": [
    "df = pd.DataFrame(data = rfe.ranking_, columns=['Rank'])\n",
    "df['Column_name'] = numericals.columns\n",
    "df = df[df['Rank']==1]"
   ]
  },
  {
   "cell_type": "code",
   "execution_count": 204,
   "id": "5a851c7b",
   "metadata": {},
   "outputs": [],
   "source": [
    "ids = []\n",
    "\n",
    "for i in ['country_name', 'continent', 'region', 'polity']:\n",
    "    ids.append(str(i))\n",
    "\n",
    "for i in df['Column_name']:\n",
    "    ids.append(str(i))"
   ]
  },
  {
   "cell_type": "code",
   "execution_count": 205,
   "id": "a86adaae",
   "metadata": {},
   "outputs": [
    {
     "data": {
      "text/plain": [
       "['121106',\n",
       " '169706',\n",
       " '175106',\n",
       " '182206',\n",
       " '46006',\n",
       " '49006',\n",
       " 'final_181706',\n",
       " 'final_123506',\n",
       " 'final_178306',\n",
       " 'final_128106',\n",
       " 'final_24106',\n",
       " 'final_52606',\n",
       " 'final_123806',\n",
       " 'final_181206',\n",
       " 'final_135106',\n",
       " 'final_46106',\n",
       " 'final_133006',\n",
       " 'final_147206',\n",
       " 'final_170106',\n",
       " 'final_147906',\n",
       " 'final_142506']"
      ]
     },
     "execution_count": 205,
     "metadata": {},
     "output_type": "execute_result"
    }
   ],
   "source": [
    "id2 = []\n",
    "for i in df['Column_name']:\n",
    "    id2.append(str(i))\n",
    "id2"
   ]
  },
  {
   "cell_type": "code",
   "execution_count": 206,
   "id": "5deaba1e",
   "metadata": {},
   "outputs": [],
   "source": [
    "clean_data2 = clean_KNN[clean_KNN.columns.intersection(ids)]"
   ]
  },
  {
   "cell_type": "code",
   "execution_count": 207,
   "id": "bab6e0ba",
   "metadata": {},
   "outputs": [
    {
     "data": {
      "text/plain": [
       "(162, 25)"
      ]
     },
     "execution_count": 207,
     "metadata": {},
     "output_type": "execute_result"
    }
   ],
   "source": [
    "clean_data2.shape"
   ]
  },
  {
   "cell_type": "code",
   "execution_count": 208,
   "id": "07a10976",
   "metadata": {
    "scrolled": true
   },
   "outputs": [
    {
     "name": "stdout",
     "output_type": "stream",
     "text": [
      "LR score:  0.5833333333333334\n",
      "precision:  0.7291666666666666\n",
      "recall:  0.5833333333333334\n",
      "f1:  0.5878968253968254\n"
     ]
    },
    {
     "name": "stderr",
     "output_type": "stream",
     "text": [
      "C:\\Users\\herat\\anaconda3\\lib\\site-packages\\sklearn\\metrics\\_classification.py:1318: UndefinedMetricWarning: Precision is ill-defined and being set to 0.0 in labels with no predicted samples. Use `zero_division` parameter to control this behavior.\n",
      "  _warn_prf(average, modifier, msg_start, len(result))\n",
      "C:\\Users\\herat\\anaconda3\\lib\\site-packages\\sklearn\\metrics\\_classification.py:1318: UndefinedMetricWarning: Recall is ill-defined and being set to 0.0 in labels with no true samples. Use `zero_division` parameter to control this behavior.\n",
      "  _warn_prf(average, modifier, msg_start, len(result))\n",
      "C:\\Users\\herat\\anaconda3\\lib\\site-packages\\sklearn\\metrics\\_classification.py:1318: UndefinedMetricWarning: Precision is ill-defined and being set to 0.0 in labels with no predicted samples. Use `zero_division` parameter to control this behavior.\n",
      "  _warn_prf(average, modifier, msg_start, len(result))\n",
      "C:\\Users\\herat\\anaconda3\\lib\\site-packages\\sklearn\\metrics\\_classification.py:1318: UndefinedMetricWarning: Recall is ill-defined and being set to 0.0 in labels with no true samples. Use `zero_division` parameter to control this behavior.\n",
      "  _warn_prf(average, modifier, msg_start, len(result))\n"
     ]
    }
   ],
   "source": [
    "X = clean_data2.drop(['polity', 'country_name', 'region'],axis=1)\n",
    "y = clean_data2['polity']\n",
    "X_train, X_test, y_train, y_test = train_test_split(X, y, test_size = 0.145, \n",
    "                                                    random_state = 100)\n",
    "numericals_train = X_train.select_dtypes(np.number)\n",
    "numericals_test = X_test.select_dtypes(np.number)\n",
    "\n",
    "categoricals_train = X_train.select_dtypes(object)\n",
    "categoricals_test = X_test.select_dtypes(object)\n",
    "\n",
    "transformer = StandardScaler().fit(numericals_train)\n",
    "numericals_train_standardized = transformer.transform(numericals_train)\n",
    "numericals_test_standardized = transformer.transform(numericals_test)\n",
    "\n",
    "encoder = OneHotEncoder(handle_unknown='error', drop='first').fit(categoricals_train)\n",
    "categoricals_train_encoded = encoder.transform(categoricals_train).toarray()\n",
    "categoricals_test_encoded = encoder.transform(categoricals_test).toarray()\n",
    "\n",
    "X_train = np.concatenate((numericals_train_standardized,categoricals_train_encoded),axis=1)\n",
    "X_test = np.concatenate((numericals_test_standardized,categoricals_test_encoded),axis=1)\n",
    "\n",
    "LR = LogisticRegression(random_state=100, solver='saga', max_iter = 10000)\n",
    "LR.fit(X_train, y_train)\n",
    "\n",
    "LR_pred = LR.predict(X_test)\n",
    "\n",
    "R5 = LR.score(X_test, y_test)\n",
    "PS5 = precision_score(y_test, LR_pred, average= 'weighted')\n",
    "RS5 = recall_score(y_test, LR_pred, average='weighted')\n",
    "F1_5 = f1_score(y_test, LR_pred, average='weighted')\n",
    "\n",
    "print('LR score: ', LR.score(X_test, y_test))\n",
    "print(\"precision: \",precision_score(y_test, LR_pred, average='weighted'))\n",
    "print(\"recall: \",recall_score(y_test, LR_pred, average='weighted'))\n",
    "print(\"f1: \",f1_score(y_test, LR_pred, average='weighted'))"
   ]
  },
  {
   "cell_type": "markdown",
   "id": "9c3e0cc7",
   "metadata": {},
   "source": [
    "My score got even better!"
   ]
  },
  {
   "cell_type": "code",
   "execution_count": 209,
   "id": "5df4ced2",
   "metadata": {},
   "outputs": [
    {
     "data": {
      "text/html": [
       "<div>\n",
       "<style scoped>\n",
       "    .dataframe tbody tr th:only-of-type {\n",
       "        vertical-align: middle;\n",
       "    }\n",
       "\n",
       "    .dataframe tbody tr th {\n",
       "        vertical-align: top;\n",
       "    }\n",
       "\n",
       "    .dataframe thead th {\n",
       "        text-align: right;\n",
       "    }\n",
       "</style>\n",
       "<table border=\"1\" class=\"dataframe\">\n",
       "  <thead>\n",
       "    <tr style=\"text-align: right;\">\n",
       "      <th></th>\n",
       "      <th>polity</th>\n",
       "      <th>prediction</th>\n",
       "    </tr>\n",
       "  </thead>\n",
       "  <tbody>\n",
       "    <tr>\n",
       "      <th>0</th>\n",
       "      <td>7.0</td>\n",
       "      <td>8.0</td>\n",
       "    </tr>\n",
       "    <tr>\n",
       "      <th>1</th>\n",
       "      <td>-7.0</td>\n",
       "      <td>10.0</td>\n",
       "    </tr>\n",
       "    <tr>\n",
       "      <th>2</th>\n",
       "      <td>6.0</td>\n",
       "      <td>-2.0</td>\n",
       "    </tr>\n",
       "    <tr>\n",
       "      <th>3</th>\n",
       "      <td>10.0</td>\n",
       "      <td>10.0</td>\n",
       "    </tr>\n",
       "    <tr>\n",
       "      <th>4</th>\n",
       "      <td>-1.0</td>\n",
       "      <td>-3.0</td>\n",
       "    </tr>\n",
       "    <tr>\n",
       "      <th>5</th>\n",
       "      <td>-7.0</td>\n",
       "      <td>9.0</td>\n",
       "    </tr>\n",
       "    <tr>\n",
       "      <th>6</th>\n",
       "      <td>10.0</td>\n",
       "      <td>10.0</td>\n",
       "    </tr>\n",
       "    <tr>\n",
       "      <th>7</th>\n",
       "      <td>-4.0</td>\n",
       "      <td>-4.0</td>\n",
       "    </tr>\n",
       "    <tr>\n",
       "      <th>8</th>\n",
       "      <td>10.0</td>\n",
       "      <td>10.0</td>\n",
       "    </tr>\n",
       "    <tr>\n",
       "      <th>9</th>\n",
       "      <td>9.0</td>\n",
       "      <td>9.0</td>\n",
       "    </tr>\n",
       "    <tr>\n",
       "      <th>10</th>\n",
       "      <td>-7.0</td>\n",
       "      <td>7.0</td>\n",
       "    </tr>\n",
       "    <tr>\n",
       "      <th>11</th>\n",
       "      <td>7.0</td>\n",
       "      <td>7.0</td>\n",
       "    </tr>\n",
       "    <tr>\n",
       "      <th>12</th>\n",
       "      <td>7.0</td>\n",
       "      <td>8.0</td>\n",
       "    </tr>\n",
       "    <tr>\n",
       "      <th>13</th>\n",
       "      <td>-7.0</td>\n",
       "      <td>-7.0</td>\n",
       "    </tr>\n",
       "    <tr>\n",
       "      <th>14</th>\n",
       "      <td>10.0</td>\n",
       "      <td>10.0</td>\n",
       "    </tr>\n",
       "    <tr>\n",
       "      <th>15</th>\n",
       "      <td>10.0</td>\n",
       "      <td>10.0</td>\n",
       "    </tr>\n",
       "    <tr>\n",
       "      <th>16</th>\n",
       "      <td>10.0</td>\n",
       "      <td>10.0</td>\n",
       "    </tr>\n",
       "    <tr>\n",
       "      <th>17</th>\n",
       "      <td>8.0</td>\n",
       "      <td>10.0</td>\n",
       "    </tr>\n",
       "    <tr>\n",
       "      <th>18</th>\n",
       "      <td>8.0</td>\n",
       "      <td>8.0</td>\n",
       "    </tr>\n",
       "    <tr>\n",
       "      <th>19</th>\n",
       "      <td>6.0</td>\n",
       "      <td>-3.0</td>\n",
       "    </tr>\n",
       "    <tr>\n",
       "      <th>20</th>\n",
       "      <td>9.0</td>\n",
       "      <td>9.0</td>\n",
       "    </tr>\n",
       "    <tr>\n",
       "      <th>21</th>\n",
       "      <td>9.0</td>\n",
       "      <td>8.0</td>\n",
       "    </tr>\n",
       "    <tr>\n",
       "      <th>22</th>\n",
       "      <td>6.0</td>\n",
       "      <td>6.0</td>\n",
       "    </tr>\n",
       "    <tr>\n",
       "      <th>23</th>\n",
       "      <td>-10.0</td>\n",
       "      <td>-10.0</td>\n",
       "    </tr>\n",
       "  </tbody>\n",
       "</table>\n",
       "</div>"
      ],
      "text/plain": [
       "    polity  prediction\n",
       "0      7.0         8.0\n",
       "1     -7.0        10.0\n",
       "2      6.0        -2.0\n",
       "3     10.0        10.0\n",
       "4     -1.0        -3.0\n",
       "5     -7.0         9.0\n",
       "6     10.0        10.0\n",
       "7     -4.0        -4.0\n",
       "8     10.0        10.0\n",
       "9      9.0         9.0\n",
       "10    -7.0         7.0\n",
       "11     7.0         7.0\n",
       "12     7.0         8.0\n",
       "13    -7.0        -7.0\n",
       "14    10.0        10.0\n",
       "15    10.0        10.0\n",
       "16    10.0        10.0\n",
       "17     8.0        10.0\n",
       "18     8.0         8.0\n",
       "19     6.0        -3.0\n",
       "20     9.0         9.0\n",
       "21     9.0         8.0\n",
       "22     6.0         6.0\n",
       "23   -10.0       -10.0"
      ]
     },
     "execution_count": 209,
     "metadata": {},
     "output_type": "execute_result"
    }
   ],
   "source": [
    "LR_pred = LR.predict(X_test)\n",
    "y_test = pd.DataFrame(y_test).reset_index(drop = True)\n",
    "LR_pred = pd.DataFrame(LR_pred).reset_index(drop = True)\n",
    "pd.concat([y_test, LR_pred], axis = 1).rename(columns = {0: 'prediction'})"
   ]
  },
  {
   "cell_type": "markdown",
   "id": "9cfc4b00",
   "metadata": {},
   "source": [
    "#### Comparing models to choose best one"
   ]
  },
  {
   "cell_type": "markdown",
   "id": "eb570d5a",
   "metadata": {},
   "source": [
    "Plotting last 2 models:"
   ]
  },
  {
   "cell_type": "code",
   "execution_count": 210,
   "id": "2bd2efbd",
   "metadata": {
    "scrolled": true
   },
   "outputs": [
    {
     "data": {
      "text/html": [
       "<div>\n",
       "<style scoped>\n",
       "    .dataframe tbody tr th:only-of-type {\n",
       "        vertical-align: middle;\n",
       "    }\n",
       "\n",
       "    .dataframe tbody tr th {\n",
       "        vertical-align: top;\n",
       "    }\n",
       "\n",
       "    .dataframe thead th {\n",
       "        text-align: right;\n",
       "    }\n",
       "</style>\n",
       "<table border=\"1\" class=\"dataframe\">\n",
       "  <thead>\n",
       "    <tr style=\"text-align: right;\">\n",
       "      <th></th>\n",
       "      <th>index</th>\n",
       "      <th>R_Score</th>\n",
       "      <th>Precision</th>\n",
       "      <th>Recall</th>\n",
       "      <th>F1</th>\n",
       "    </tr>\n",
       "  </thead>\n",
       "  <tbody>\n",
       "    <tr>\n",
       "      <th>0</th>\n",
       "      <td>Model 4</td>\n",
       "      <td>0.500000</td>\n",
       "      <td>0.512500</td>\n",
       "      <td>0.500000</td>\n",
       "      <td>0.475694</td>\n",
       "    </tr>\n",
       "    <tr>\n",
       "      <th>1</th>\n",
       "      <td>Model 5</td>\n",
       "      <td>0.583333</td>\n",
       "      <td>0.729167</td>\n",
       "      <td>0.583333</td>\n",
       "      <td>0.587897</td>\n",
       "    </tr>\n",
       "  </tbody>\n",
       "</table>\n",
       "</div>"
      ],
      "text/plain": [
       "     index   R_Score  Precision    Recall        F1\n",
       "0  Model 4  0.500000   0.512500  0.500000  0.475694\n",
       "1  Model 5  0.583333   0.729167  0.583333  0.587897"
      ]
     },
     "execution_count": 210,
     "metadata": {},
     "output_type": "execute_result"
    }
   ],
   "source": [
    "Scores_4 = [R4, PS4, RS4, F1_4]\n",
    "Scores_5 = [R5, PS5, RS5, F1_5]\n",
    "\n",
    "df4 = pd.DataFrame(Scores_4, index = ['R_Score', 'Precision', 'Recall', 'F1'], \n",
    "             columns = ['Model 4'])\n",
    "df5 = pd.DataFrame(Scores_5, index = ['R_Score', 'Precision', 'Recall', 'F1'], \n",
    "             columns = ['Model 5'])\n",
    "\n",
    "scores2 = pd.concat([df4, df5], axis = 1).T.reset_index()\n",
    "scores2"
   ]
  },
  {
   "cell_type": "code",
   "execution_count": 211,
   "id": "7b2fbef2",
   "metadata": {},
   "outputs": [],
   "source": [
    "scores2 = scores2.melt(id_vars = ['index'])"
   ]
  },
  {
   "cell_type": "code",
   "execution_count": 212,
   "id": "54384257",
   "metadata": {},
   "outputs": [
    {
     "data": {
      "text/html": [
       "<div>\n",
       "<style scoped>\n",
       "    .dataframe tbody tr th:only-of-type {\n",
       "        vertical-align: middle;\n",
       "    }\n",
       "\n",
       "    .dataframe tbody tr th {\n",
       "        vertical-align: top;\n",
       "    }\n",
       "\n",
       "    .dataframe thead th {\n",
       "        text-align: right;\n",
       "    }\n",
       "</style>\n",
       "<table border=\"1\" class=\"dataframe\">\n",
       "  <thead>\n",
       "    <tr style=\"text-align: right;\">\n",
       "      <th></th>\n",
       "      <th>index</th>\n",
       "      <th>variable</th>\n",
       "      <th>value</th>\n",
       "    </tr>\n",
       "  </thead>\n",
       "  <tbody>\n",
       "    <tr>\n",
       "      <th>0</th>\n",
       "      <td>Model 4</td>\n",
       "      <td>F1</td>\n",
       "      <td>0.475694</td>\n",
       "    </tr>\n",
       "    <tr>\n",
       "      <th>1</th>\n",
       "      <td>Model 4</td>\n",
       "      <td>Precision</td>\n",
       "      <td>0.512500</td>\n",
       "    </tr>\n",
       "    <tr>\n",
       "      <th>2</th>\n",
       "      <td>Model 4</td>\n",
       "      <td>R_Score</td>\n",
       "      <td>0.500000</td>\n",
       "    </tr>\n",
       "    <tr>\n",
       "      <th>3</th>\n",
       "      <td>Model 4</td>\n",
       "      <td>Recall</td>\n",
       "      <td>0.500000</td>\n",
       "    </tr>\n",
       "    <tr>\n",
       "      <th>4</th>\n",
       "      <td>Model 5</td>\n",
       "      <td>F1</td>\n",
       "      <td>0.587897</td>\n",
       "    </tr>\n",
       "    <tr>\n",
       "      <th>5</th>\n",
       "      <td>Model 5</td>\n",
       "      <td>Precision</td>\n",
       "      <td>0.729167</td>\n",
       "    </tr>\n",
       "    <tr>\n",
       "      <th>6</th>\n",
       "      <td>Model 5</td>\n",
       "      <td>R_Score</td>\n",
       "      <td>0.583333</td>\n",
       "    </tr>\n",
       "    <tr>\n",
       "      <th>7</th>\n",
       "      <td>Model 5</td>\n",
       "      <td>Recall</td>\n",
       "      <td>0.583333</td>\n",
       "    </tr>\n",
       "  </tbody>\n",
       "</table>\n",
       "</div>"
      ],
      "text/plain": [
       "     index   variable     value\n",
       "0  Model 4         F1  0.475694\n",
       "1  Model 4  Precision  0.512500\n",
       "2  Model 4    R_Score  0.500000\n",
       "3  Model 4     Recall  0.500000\n",
       "4  Model 5         F1  0.587897\n",
       "5  Model 5  Precision  0.729167\n",
       "6  Model 5    R_Score  0.583333\n",
       "7  Model 5     Recall  0.583333"
      ]
     },
     "execution_count": 212,
     "metadata": {},
     "output_type": "execute_result"
    }
   ],
   "source": [
    "scores2 = scores2.pivot_table(index = ['index', 'variable'], values = 'value').reset_index()\n",
    "scores2"
   ]
  },
  {
   "cell_type": "markdown",
   "id": "dbb653b4",
   "metadata": {},
   "source": [
    "Plotting them all together"
   ]
  },
  {
   "cell_type": "code",
   "execution_count": 213,
   "id": "c97e8c89",
   "metadata": {},
   "outputs": [],
   "source": [
    "%store -r df1\n",
    "%store -r df2\n",
    "%store -r df3"
   ]
  },
  {
   "cell_type": "code",
   "execution_count": 214,
   "id": "7f9e125e",
   "metadata": {},
   "outputs": [],
   "source": [
    "scores3 = pd.concat([df1, df2, df3, df4, df5], axis = 1).T.reset_index()\n",
    "scores3.drop('KNN_score', axis = 1, inplace = True)"
   ]
  },
  {
   "cell_type": "code",
   "execution_count": 215,
   "id": "2f0bba2a",
   "metadata": {},
   "outputs": [],
   "source": [
    "scores3 = scores3.melt(id_vars = ['index'])"
   ]
  },
  {
   "cell_type": "code",
   "execution_count": 216,
   "id": "fc4bdea2",
   "metadata": {
    "scrolled": false
   },
   "outputs": [],
   "source": [
    "scores3 = scores3.pivot_table(index = ['index', 'variable'], values = 'value').reset_index()\n",
    "scores3.to_csv('scores.csv')"
   ]
  },
  {
   "cell_type": "markdown",
   "id": "03a6b7b7",
   "metadata": {},
   "source": [
    "### Plots"
   ]
  },
  {
   "cell_type": "code",
   "execution_count": 217,
   "id": "23d1010b",
   "metadata": {
    "scrolled": true
   },
   "outputs": [
    {
     "data": {
      "image/png": "[encoded data removed]",
      "text/plain": [
       "<Figure size 435.5x360 with 1 Axes>"
      ]
     },
     "metadata": {
      "needs_background": "light"
     },
     "output_type": "display_data"
    }
   ],
   "source": [
    "sns.catplot(data = scores2, x = 'value', y = 'variable', hue = 'index', kind = 'bar')\n",
    "plt.grid()\n",
    "plt.show()"
   ]
  },
  {
   "cell_type": "code",
   "execution_count": 218,
   "id": "273f5609",
   "metadata": {},
   "outputs": [
    {
     "data": {
      "image/png": "[encoded data removed]",
      "text/plain": [
       "<Figure size 435.5x360 with 1 Axes>"
      ]
     },
     "metadata": {
      "needs_background": "light"
     },
     "output_type": "display_data"
    }
   ],
   "source": [
    "sns.catplot(data = scores3, x = 'value', y = 'variable', hue = 'index', kind = 'bar', palette = 'Spectral')\n",
    "plt.grid()\n",
    "plt.show()"
   ]
  },
  {
   "cell_type": "markdown",
   "id": "a444647d",
   "metadata": {},
   "source": [
    "The Recursive Feature Elimination made my model even better, getting an r_score of almost 0.6 and a precision score over 0,7."
   ]
  },
  {
   "cell_type": "markdown",
   "id": "3c03cb48",
   "metadata": {},
   "source": [
    "### Best indicators"
   ]
  },
  {
   "cell_type": "code",
   "execution_count": 219,
   "id": "657becc1",
   "metadata": {},
   "outputs": [],
   "source": [
    "id_clean = []\n",
    "for i in id2:\n",
    "    id_clean.append(int(i.replace('final_', '')))"
   ]
  },
  {
   "cell_type": "markdown",
   "id": "a5a6f6cc",
   "metadata": {},
   "source": [
    "Getting the names of the best indicators according to RFE"
   ]
  },
  {
   "cell_type": "code",
   "execution_count": 227,
   "id": "c87ea03e",
   "metadata": {
    "scrolled": true
   },
   "outputs": [
    {
     "data": {
      "text/html": [
       "<div>\n",
       "<style scoped>\n",
       "    .dataframe tbody tr th:only-of-type {\n",
       "        vertical-align: middle;\n",
       "    }\n",
       "\n",
       "    .dataframe tbody tr th {\n",
       "        vertical-align: top;\n",
       "    }\n",
       "\n",
       "    .dataframe thead th {\n",
       "        text-align: right;\n",
       "    }\n",
       "</style>\n",
       "<table border=\"1\" class=\"dataframe\">\n",
       "  <thead>\n",
       "    <tr style=\"text-align: right;\">\n",
       "      <th></th>\n",
       "      <th>indicator_name</th>\n",
       "      <th>dimension</th>\n",
       "    </tr>\n",
       "  </thead>\n",
       "  <tbody>\n",
       "    <tr>\n",
       "      <th>0</th>\n",
       "      <td>Estimated gross national income per capita, fe...</td>\n",
       "      <td>Gender</td>\n",
       "    </tr>\n",
       "    <tr>\n",
       "      <th>1</th>\n",
       "      <td>Gross capital formation (% of GDP)</td>\n",
       "      <td>Socio-economic sustainability</td>\n",
       "    </tr>\n",
       "    <tr>\n",
       "      <th>2</th>\n",
       "      <td>Gross enrolment ratio, pre-primary (% of presc...</td>\n",
       "      <td>Education</td>\n",
       "    </tr>\n",
       "    <tr>\n",
       "      <th>3</th>\n",
       "      <td>Income inequality, quintile ratio</td>\n",
       "      <td>Inequality</td>\n",
       "    </tr>\n",
       "    <tr>\n",
       "      <th>4</th>\n",
       "      <td>Income quintile ratio, average annual change (%)</td>\n",
       "      <td>Socio-economic sustainability</td>\n",
       "    </tr>\n",
       "    <tr>\n",
       "      <th>5</th>\n",
       "      <td>International student mobility (% of total ter...</td>\n",
       "      <td>Mobility and communication</td>\n",
       "    </tr>\n",
       "    <tr>\n",
       "      <th>6</th>\n",
       "      <td>Life expectancy at birth, male (years)</td>\n",
       "      <td>Demography</td>\n",
       "    </tr>\n",
       "    <tr>\n",
       "      <th>7</th>\n",
       "      <td>Mandatory paid maternity leave (days)</td>\n",
       "      <td>Gender</td>\n",
       "    </tr>\n",
       "    <tr>\n",
       "      <th>8</th>\n",
       "      <td>Mean years of schooling, female (years)</td>\n",
       "      <td>Education</td>\n",
       "    </tr>\n",
       "    <tr>\n",
       "      <th>9</th>\n",
       "      <td>Mobile phone subscriptions (per 100 people)</td>\n",
       "      <td>Mobility and communication</td>\n",
       "    </tr>\n",
       "    <tr>\n",
       "      <th>10</th>\n",
       "      <td>Old-age pension recipients (% of statutory pen...</td>\n",
       "      <td>Work, employment and vulnerability</td>\n",
       "    </tr>\n",
       "    <tr>\n",
       "      <th>11</th>\n",
       "      <td>Population vulnerable to multidimensional pove...</td>\n",
       "      <td>Poverty</td>\n",
       "    </tr>\n",
       "    <tr>\n",
       "      <th>12</th>\n",
       "      <td>Primary school dropout rate (% of primary scho...</td>\n",
       "      <td>Education</td>\n",
       "    </tr>\n",
       "    <tr>\n",
       "      <th>13</th>\n",
       "      <td>Proportion of births attended by skilled healt...</td>\n",
       "      <td>Gender</td>\n",
       "    </tr>\n",
       "    <tr>\n",
       "      <th>14</th>\n",
       "      <td>Remittances, inflows (% of GDP)</td>\n",
       "      <td>Trade and financial flows</td>\n",
       "    </tr>\n",
       "    <tr>\n",
       "      <th>15</th>\n",
       "      <td>Rural population with access to electricity (%)</td>\n",
       "      <td>Socio-economic sustainability</td>\n",
       "    </tr>\n",
       "    <tr>\n",
       "      <th>16</th>\n",
       "      <td>Sex ratio at birth (male to female births)</td>\n",
       "      <td>Demography</td>\n",
       "    </tr>\n",
       "    <tr>\n",
       "      <th>17</th>\n",
       "      <td>Share of employment in nonagriculture, female ...</td>\n",
       "      <td>Work, employment and vulnerability</td>\n",
       "    </tr>\n",
       "    <tr>\n",
       "      <th>18</th>\n",
       "      <td>Total unemployment rate (female to male ratio)</td>\n",
       "      <td>Gender</td>\n",
       "    </tr>\n",
       "    <tr>\n",
       "      <th>19</th>\n",
       "      <td>Tuberculosis incidence (per 100,000 people)</td>\n",
       "      <td>Health</td>\n",
       "    </tr>\n",
       "    <tr>\n",
       "      <th>20</th>\n",
       "      <td>Youth not in school or employment (% ages 15-24)</td>\n",
       "      <td>Work, employment and vulnerability</td>\n",
       "    </tr>\n",
       "  </tbody>\n",
       "</table>\n",
       "</div>"
      ],
      "text/plain": [
       "                                       indicator_name  \\\n",
       "0   Estimated gross national income per capita, fe...   \n",
       "1                  Gross capital formation (% of GDP)   \n",
       "2   Gross enrolment ratio, pre-primary (% of presc...   \n",
       "3                   Income inequality, quintile ratio   \n",
       "4    Income quintile ratio, average annual change (%)   \n",
       "5   International student mobility (% of total ter...   \n",
       "6              Life expectancy at birth, male (years)   \n",
       "7               Mandatory paid maternity leave (days)   \n",
       "8             Mean years of schooling, female (years)   \n",
       "9         Mobile phone subscriptions (per 100 people)   \n",
       "10  Old-age pension recipients (% of statutory pen...   \n",
       "11  Population vulnerable to multidimensional pove...   \n",
       "12  Primary school dropout rate (% of primary scho...   \n",
       "13  Proportion of births attended by skilled healt...   \n",
       "14                    Remittances, inflows (% of GDP)   \n",
       "15    Rural population with access to electricity (%)   \n",
       "16         Sex ratio at birth (male to female births)   \n",
       "17  Share of employment in nonagriculture, female ...   \n",
       "18     Total unemployment rate (female to male ratio)   \n",
       "19        Tuberculosis incidence (per 100,000 people)   \n",
       "20   Youth not in school or employment (% ages 15-24)   \n",
       "\n",
       "                             dimension  \n",
       "0                               Gender  \n",
       "1        Socio-economic sustainability  \n",
       "2                            Education  \n",
       "3                           Inequality  \n",
       "4        Socio-economic sustainability  \n",
       "5           Mobility and communication  \n",
       "6                           Demography  \n",
       "7                               Gender  \n",
       "8                            Education  \n",
       "9           Mobility and communication  \n",
       "10  Work, employment and vulnerability  \n",
       "11                             Poverty  \n",
       "12                           Education  \n",
       "13                              Gender  \n",
       "14           Trade and financial flows  \n",
       "15       Socio-economic sustainability  \n",
       "16                          Demography  \n",
       "17  Work, employment and vulnerability  \n",
       "18                              Gender  \n",
       "19                              Health  \n",
       "20  Work, employment and vulnerability  "
      ]
     },
     "execution_count": 227,
     "metadata": {},
     "output_type": "execute_result"
    }
   ],
   "source": [
    "best_in = data2[data2['indicator_id'].isin(id_clean)]\n",
    "best_inp = best_in.pivot_table(index = ['indicator_name'], \n",
    "                               values = 'dimension', aggfunc = 'max').reset_index()\n",
    "best_inp.to_csv('best_inp.csv')\n",
    "best_inp"
   ]
  },
  {
   "cell_type": "markdown",
   "id": "1e16444a",
   "metadata": {},
   "source": [
    "Reordering them like in the dimensions notebook"
   ]
  },
  {
   "cell_type": "code",
   "execution_count": 226,
   "id": "9ec09c91",
   "metadata": {
    "scrolled": true
   },
   "outputs": [
    {
     "data": {
      "text/html": [
       "<div>\n",
       "<style scoped>\n",
       "    .dataframe tbody tr th:only-of-type {\n",
       "        vertical-align: middle;\n",
       "    }\n",
       "\n",
       "    .dataframe tbody tr th {\n",
       "        vertical-align: top;\n",
       "    }\n",
       "\n",
       "    .dataframe thead th {\n",
       "        text-align: right;\n",
       "    }\n",
       "</style>\n",
       "<table border=\"1\" class=\"dataframe\">\n",
       "  <thead>\n",
       "    <tr style=\"text-align: right;\">\n",
       "      <th></th>\n",
       "      <th>dimension</th>\n",
       "      <th>indicator_name</th>\n",
       "    </tr>\n",
       "  </thead>\n",
       "  <tbody>\n",
       "    <tr>\n",
       "      <th>0</th>\n",
       "      <td>Work, employment and vulnerability</td>\n",
       "      <td>3</td>\n",
       "    </tr>\n",
       "    <tr>\n",
       "      <th>1</th>\n",
       "      <td>Demography</td>\n",
       "      <td>2</td>\n",
       "    </tr>\n",
       "    <tr>\n",
       "      <th>2</th>\n",
       "      <td>Health</td>\n",
       "      <td>1</td>\n",
       "    </tr>\n",
       "    <tr>\n",
       "      <th>3</th>\n",
       "      <td>Trade and financial flows</td>\n",
       "      <td>1</td>\n",
       "    </tr>\n",
       "    <tr>\n",
       "      <th>4</th>\n",
       "      <td>Mobility and communication</td>\n",
       "      <td>2</td>\n",
       "    </tr>\n",
       "    <tr>\n",
       "      <th>5</th>\n",
       "      <td>Socio-economic sustainability</td>\n",
       "      <td>3</td>\n",
       "    </tr>\n",
       "    <tr>\n",
       "      <th>6</th>\n",
       "      <td>Education</td>\n",
       "      <td>3</td>\n",
       "    </tr>\n",
       "    <tr>\n",
       "      <th>7</th>\n",
       "      <td>Gender</td>\n",
       "      <td>4</td>\n",
       "    </tr>\n",
       "    <tr>\n",
       "      <th>8</th>\n",
       "      <td>Inequality</td>\n",
       "      <td>1</td>\n",
       "    </tr>\n",
       "    <tr>\n",
       "      <th>9</th>\n",
       "      <td>Poverty</td>\n",
       "      <td>1</td>\n",
       "    </tr>\n",
       "  </tbody>\n",
       "</table>\n",
       "</div>"
      ],
      "text/plain": [
       "                            dimension  indicator_name\n",
       "0  Work, employment and vulnerability               3\n",
       "1                          Demography               2\n",
       "2                              Health               1\n",
       "3           Trade and financial flows               1\n",
       "4          Mobility and communication               2\n",
       "5       Socio-economic sustainability               3\n",
       "6                           Education               3\n",
       "7                              Gender               4\n",
       "8                          Inequality               1\n",
       "9                             Poverty               1"
      ]
     },
     "execution_count": 226,
     "metadata": {},
     "output_type": "execute_result"
    }
   ],
   "source": [
    "bd = best_inp.pivot_table(index = 'dimension', \n",
    "                                     values = 'indicator_name', \n",
    "                                     aggfunc = 'count').reset_index()\n",
    "bd = bd.reindex([9, 0, 3, 8, 5, 7, 1, 2, 4, 6]).reset_index(drop = True)\n",
    "bd.to_csv('best_indicators.csv')\n",
    "bd"
   ]
  },
  {
   "cell_type": "markdown",
   "id": "c8db3415",
   "metadata": {},
   "source": [
    "Plotting the count of dimensions for the best indicators"
   ]
  },
  {
   "cell_type": "code",
   "execution_count": 222,
   "id": "34af3ece",
   "metadata": {},
   "outputs": [],
   "source": [
    "%store -r r_df"
   ]
  },
  {
   "cell_type": "code",
   "execution_count": 223,
   "id": "b67e8d5b",
   "metadata": {
    "scrolled": true
   },
   "outputs": [
    {
     "data": {
      "image/png": "[encoded data removed]",
      "text/plain": [
       "<Figure size 432x288 with 1 Axes>"
      ]
     },
     "metadata": {
      "needs_background": "light"
     },
     "output_type": "display_data"
    }
   ],
   "source": [
    "sns.barplot(y = bd['dimension'], x = bd['indicator_name'], palette = 'husl')\n",
    "plt.grid()\n",
    "plt.show()"
   ]
  },
  {
   "cell_type": "code",
   "execution_count": 224,
   "id": "37cd2481",
   "metadata": {},
   "outputs": [
    {
     "data": {
      "image/png": "[encoded data removed]",
      "text/plain": [
       "<Figure size 432x288 with 1 Axes>"
      ]
     },
     "metadata": {
      "needs_background": "light"
     },
     "output_type": "display_data"
    }
   ],
   "source": [
    "best_dimension = sns.barplot(y = r_df['dimension'], x = r_df['r2_score'])"
   ]
  },
  {
   "cell_type": "markdown",
   "id": "b056c532",
   "metadata": {},
   "source": [
    "[Link to Tableau Presentation](https://public.tableau.com/app/profile/clara.perez.quer/viz/Mid-ProjectPresentation/Story1?publish=yes)"
   ]
  }
 ],
 "metadata": {
  "kernelspec": {
   "display_name": "Python 3 (ipykernel)",
   "language": "python",
   "name": "python3"
  },
  "language_info": {
   "codemirror_mode": {
    "name": "ipython",
    "version": 3
   },
   "file_extension": ".py",
   "mimetype": "text/x-python",
   "name": "python",
   "nbconvert_exporter": "python",
   "pygments_lexer": "ipython3",
   "version": "3.9.7"
  }
 },
 "nbformat": 4,
 "nbformat_minor": 5
}
